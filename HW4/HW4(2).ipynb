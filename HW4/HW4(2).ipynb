{
 "cells": [
  {
   "cell_type": "markdown",
   "metadata": {},
   "source": [
    "# Intro to Data Science - Homework 4 - Spring 2025 - Wilmington College\n",
    "## Due Date: April 07, 2025"
   ]
  },
  {
   "cell_type": "markdown",
   "metadata": {},
   "source": [
    "### 1. **Customer Order Summary**\n",
    "You are given two tables: `Customers` and `Orders`. The `Customers` table contains information about customers, including their ID and name, while the `Orders` table contains the details of their purchases. Your task is to generate a summary of orders for each customer.\n",
    "\n",
    "#### Requirements:\n",
    "1. Return each customer's name along with their total number of orders and total purchase amount.\n",
    "2. If a customer has not placed any orders, return 0 for both `total_orders` and `total_amount`.\n",
    "\n",
    "#### Input:\n",
    "**Customers table:**\n",
    "| customer_id | name    |\n",
    "|------------|--------|\n",
    "| 1          | Alice  |\n",
    "| 2          | Bob    |\n",
    "| 3          | Charlie |\n",
    "\n",
    "**Orders table:**\n",
    "| order_id | customer_id | amount |\n",
    "|---------|-------------|--------|\n",
    "| 101     | 1           | 200    |\n",
    "| 102     | 1           | 150    |\n",
    "| 103     | 2           | 300    |\n",
    "\n",
    "#### Expected Output:\n",
    "| name   | total_orders | total_amount |\n",
    "|--------|-------------|--------------|\n",
    "| Alice  | 2           | 350          |\n",
    "| Bob    | 1           | 300          |\n",
    "| Charlie | 0           | 0            |\n",
    "\n",
    "**Hint:**\n",
    "- You can count the number of orders for each customer and sum the purchase amount for each customer by using the groupby function.\n",
    "\n",
    "- To do this, group the Orders table by customer_id. After grouping, count the order_id to get the total number of orders and sum the amount to get the total amount."
   ]
  },
  {
   "cell_type": "code",
   "execution_count": null,
   "metadata": {},
   "outputs": [
    {
     "name": "stdout",
     "output_type": "stream",
     "text": [
      "      name  total_orders  total_amount\n",
      "0    Alice             2           350\n",
      "1      Bob             1           300\n",
      "2  Charlie             0             0\n"
     ]
    }
   ],
   "source": [
    "import pandas as pd\n",
    "\n",
    "#  Customers and Orders \n",
    "customers_data = {\n",
    "    \"customer_id\": [1, 2, 3],\n",
    "    \"name\": [\"Alice\", \"Bob\", \"Charlie\"]\n",
    "}\n",
    "orders_data = {\n",
    "    \"order_id\": [101, 102, 103],\n",
    "    \"customer_id\": [1, 1, 2],\n",
    "    \"amount\": [200, 150, 300]\n",
    "}\n",
    "\n",
    "# DataFrames\n",
    "customers_df = pd.DataFrame(customers_data)\n",
    "orders_df = pd.DataFrame(orders_data)\n",
    "\n",
    "# Group orders by customer_id to get total orders and total amount\n",
    "order_summary = orders_df.groupby(\"customer_id\").agg(\n",
    "    total_orders=pd.NamedAgg(column=\"order_id\", aggfunc=\"count\"),\n",
    "    total_amount=pd.NamedAgg(column=\"amount\", aggfunc=\"sum\")\n",
    ").reset_index()\n",
    "\n",
    "# Merging\n",
    "result_q1 = pd.merge(customers_df, order_summary, on=\"customer_id\", how=\"left\").fillna(0)\n",
    "result_q1[\"total_orders\"] = result_q1[\"total_orders\"].astype(int)\n",
    "result_q1[\"total_amount\"] = result_q1[\"total_amount\"].astype(int)\n",
    "\n",
    "final_result_q1 = result_q1[[\"name\", \"total_orders\", \"total_amount\"]]\n",
    "\n",
    "print(final_result_q1)\n"
   ]
  },
  {
   "cell_type": "markdown",
   "metadata": {},
   "source": [
    "### 2. **High-Performing Employees**\n",
    "Given an `Employees` table that contains employee performance scores and departments, identify employees who have a performance score greater than the department average.\n",
    "\n",
    "#### Requirements:\n",
    "1. Calculate the average performance score for each department.\n",
    "2. Identify employees whose score is greater than their department’s average.\n",
    "3. Return their name, department, and performance score.\n",
    "\n",
    "#### Input:\n",
    "**Employees table:**\n",
    "| emp_id | name    | department | performance_score |\n",
    "|--------|---------|------------|-------------------|\n",
    "| 1      | Alice   | Sales      | 80                |\n",
    "| 2      | Bob     | Sales      | 75                |\n",
    "| 3      | Charlie | HR         | 90                |\n",
    "| 4      | David   | HR         | 85                |\n",
    "| 5      | Eve     | Sales      | 95                |\n",
    "\n",
    "#### Expected Output:\n",
    "| name   | department | performance_score |\n",
    "|--------|------------|-------------------|\n",
    "| Alice  | Sales      | 80                |\n",
    "| Charlie| HR         | 90                |"
   ]
  },
  {
   "cell_type": "code",
   "execution_count": null,
   "metadata": {},
   "outputs": [
    {
     "name": "stdout",
     "output_type": "stream",
     "text": [
      "      name department  performance_score\n",
      "2  Charlie         HR                 90\n",
      "4      Eve      Sales                 95\n"
     ]
    }
   ],
   "source": [
    "import pandas as pd\n",
    "\n",
    "#  Employees \n",
    "employees_data = {\n",
    "    \"emp_id\": [1, 2, 3, 4, 5],\n",
    "    \"name\": [\"Alice\", \"Bob\", \"Charlie\", \"David\", \"Eve\"],\n",
    "    \"department\": [\"Sales\", \"Sales\", \"HR\", \"HR\", \"Sales\"],\n",
    "    \"performance_score\": [80, 75, 90, 85, 95]\n",
    "}\n",
    "\n",
    "employees_df = pd.DataFrame(employees_data)\n",
    "\n",
    "#  average performance per department\n",
    "dept_avg = employees_df.groupby(\"department\")[\"performance_score\"].transform(\"mean\")\n",
    "\n",
    "#  employees performance above their department average\n",
    "high_performers = employees_df[employees_df[\"performance_score\"] > dept_avg][[\"name\", \"department\", \"performance_score\"]]\n",
    "\n",
    "print(high_performers)\n",
    "\n",
    "\n",
    "\n"
   ]
  },
  {
   "cell_type": "markdown",
   "metadata": {},
   "source": [
    "\n",
    "### 3. **Product Sales Growth Analysis**\n",
    "You are given sales data for multiple years. Your task is to identify products whose sales increased from one year to the next.\n",
    "\n",
    "#### Requirements:\n",
    "1. Identify products where the sales quantity increased from one year to the next.\n",
    "2. Return the product name and the year-over-year growth.\n",
    "\n",
    "#### Input:\n",
    "**Sales table:**\n",
    "| sale_id | product_id | year | quantity |\n",
    "|---------|------------|------|----------|\n",
    "| 1       | 100        | 2023 | 10       |\n",
    "| 2       | 100        | 2024 | 15       |\n",
    "| 3       | 200        | 2023 | 20       |\n",
    "| 4       | 200        | 2024 | 18       |\n",
    "\n",
    "**Products table:**\n",
    "| product_id | product_name |\n",
    "|------------|--------------|\n",
    "| 100        | Laptop       |\n",
    "| 200        | Phone        |\n",
    "\n",
    "#### Expected Output:\n",
    "| product_name | growth |\n",
    "|-------------|--------|\n",
    "| Laptop      | 5      |\n",
    "\n",
    "**Hint:**\n",
    "- To calculate the year-over-year growth, you can use the pivot_table function. This will allow you to reshape the sales data so that each product’s sales quantities for different years are in separate columns.\n",
    "\n",
    "- After reshaping the data, you can subtract the quantity for the previous year from the quantity for the next year to find the growth for each product.\n",
    "\n",
    "- The pivot_table function is useful for aggregating data by multiple columns (e.g., product and year) and performing operations like sum. Make sure to use pivot_table to organize the sales quantities by product and year before calculating the growth."
   ]
  },
  {
   "cell_type": "code",
   "execution_count": 19,
   "metadata": {},
   "outputs": [
    {
     "name": "stdout",
     "output_type": "stream",
     "text": [
      "  product_name  growth\n",
      "0       Laptop     5.0\n"
     ]
    }
   ],
   "source": [
    "\n",
    "import pandas as pd\n",
    "\n",
    "#  Sales and Products \n",
    "sales_data = {\n",
    "    \"sale_id\": [1, 2, 3, 4],\n",
    "    \"product_id\": [100, 100, 200, 200],\n",
    "    \"year\": [2023, 2024, 2023, 2024],\n",
    "    \"quantity\": [10, 15, 20, 18]\n",
    "}\n",
    "products_data = {\n",
    "    \"product_id\": [100, 200],\n",
    "    \"product_name\": [\"Laptop\", \"Phone\"]\n",
    "}\n",
    "\n",
    "sales_df = pd.DataFrame(sales_data)\n",
    "products_df = pd.DataFrame(products_data)\n",
    "\n",
    "# quantity per year\n",
    "pivot_df = sales_df.pivot_table(index=\"product_id\", columns=\"year\", values=\"quantity\")\n",
    "\n",
    "# Calculate growth\n",
    "pivot_df[\"growth\"] = pivot_df[2024] - pivot_df[2023]\n",
    "\n",
    "# Filter products with positive growth\n",
    "growth_df = pivot_df[pivot_df[\"growth\"] > 0].reset_index()\n",
    "\n",
    "# Merge with product names\n",
    "final_growth_df = pd.merge(growth_df[[\"product_id\", \"growth\"]], products_df, on=\"product_id\")[[\"product_name\", \"growth\"]]\n",
    "\n",
    "print(final_growth_df)\n"
   ]
  },
  {
   "cell_type": "markdown",
   "metadata": {},
   "source": [
    "### 4. **Department Manager Identification**\n",
    "You are given an `Employees` table that contains details about employees and their managers. Your task is to identify departments where the department head manages at least 3 employees.\n",
    "\n",
    "#### Requirements:\n",
    "1. Count the number of employees reporting to each manager.\n",
    "2. Identify managers who oversee at least 3 employees in the same department.\n",
    "3. Return the manager’s name, department, and the number of direct reports.\n",
    "\n",
    "#### Input:\n",
    "**Employees table:**\n",
    "| id  | name  | department | manager_id |\n",
    "|-----|-------|------------|------------|\n",
    "| 101 | John  | Sales      | NULL       |\n",
    "| 102 | Dan   | Sales      | 101        |\n",
    "| 103 | James | Sales      | 101        |\n",
    "| 104 | Amy   | Sales      | 101        |\n",
    "| 105 | Anne  | HR         | 106        |\n",
    "| 106 | Ron   | HR         | NULL       |\n",
    "\n",
    "#### Expected Output:\n",
    "| name | department | direct_reports |\n",
    "|------|------------|----------------|\n",
    "| John | Sales      | 3              |"
   ]
  },
  {
   "cell_type": "code",
   "execution_count": null,
   "metadata": {},
   "outputs": [
    {
     "name": "stdout",
     "output_type": "stream",
     "text": [
      "   name department  direct_reports\n",
      "0  John      Sales               3\n"
     ]
    }
   ],
   "source": [
    "import pandas as pd\n",
    "\n",
    "#  Employees \n",
    "employees_data_q4 = {\n",
    "    \"id\": [101, 102, 103, 104, 105, 106],\n",
    "    \"name\": [\"John\", \"Dan\", \"James\", \"Amy\", \"Anne\", \"Ron\"],\n",
    "    \"department\": [\"Sales\", \"Sales\", \"Sales\", \"Sales\", \"HR\", \"HR\"],\n",
    "    \"manager_id\": [None, 101, 101, 101, 106, None]\n",
    "}\n",
    "\n",
    "employees_df_q4 = pd.DataFrame(employees_data_q4)\n",
    "\n",
    "#  number of direct reports per manager per department\n",
    "direct_reports = (\n",
    "    employees_df_q4[employees_df_q4[\"manager_id\"].notna()]\n",
    "    .groupby([\"manager_id\", \"department\"])\n",
    "    .size()\n",
    "    .reset_index(name=\"direct_reports\")\n",
    ")\n",
    "\n",
    "# Filter managers with at least 3 direct reports\n",
    "managers_with_3plus = direct_reports[direct_reports[\"direct_reports\"] >= 3]\n",
    "\n",
    "# Manager names\n",
    "managers_with_3plus = managers_with_3plus.merge(\n",
    "    employees_df_q4[[\"id\", \"name\"]],\n",
    "    left_on=\"manager_id\",\n",
    "    right_on=\"id\"\n",
    ")[[\"name\", \"department\", \"direct_reports\"]]\n",
    "\n",
    "print(managers_with_3plus)\n",
    "\n"
   ]
  },
  {
   "cell_type": "code",
   "execution_count": null,
   "metadata": {},
   "outputs": [],
   "source": []
  }
 ],
 "metadata": {
  "kernelspec": {
   "display_name": "Python 3",
   "language": "python",
   "name": "python3"
  },
  "language_info": {
   "codemirror_mode": {
    "name": "ipython",
    "version": 3
   },
   "file_extension": ".py",
   "mimetype": "text/x-python",
   "name": "python",
   "nbconvert_exporter": "python",
   "pygments_lexer": "ipython3",
   "version": "3.12.1"
  }
 },
 "nbformat": 4,
 "nbformat_minor": 2
}
